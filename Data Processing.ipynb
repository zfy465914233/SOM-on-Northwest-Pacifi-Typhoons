{
 "cells": [
  {
   "cell_type": "code",
   "execution_count": null,
   "id": "952678ce",
   "metadata": {
    "collapsed": true
   },
   "outputs": [],
   "source": [
    "%matplotlib inline\n",
    "import numpy as np\n",
    "import matplotlib.pyplot as plt\n",
    "import xarray as xr\n",
    "import cartopy\n",
    "import cartopy.crs as ccrs\n",
    "import pandas as pd\n",
    "from __future__ import print_function\n",
    "from datetime import datetime\n",
    "import scipy\n",
    "import netCDF4\n",
    "import time\n",
    "from minisom import MiniSom\n",
    "\n",
    "# %pylab inline\n",
    "# !wget https://www.ncei.noaa.gov/data/international-best-track-archive-for-climate-stewardship-ibtracs/v04r00/access/netcdf/IBTrACS.WP.v04r00.nc"
   ]
  },
  {
   "cell_type": "code",
   "execution_count": null,
   "id": "47bda6e2",
   "metadata": {},
   "outputs": [],
   "source": [
    "ibtracs_data = xr.open_dataset('IBTrACS.WP.v04r00.nc')\n",
    "# select storms over 2010 - 2019\n",
    "storm_id = ibtracs_data.storm[(ibtracs_data.time[:,0].dt.year > 2009)&(ibtracs_data.time[:,0].dt.year < 2020)]\n",
    "this_storm = ibtracs_data.sel(storm=storm_id)\n",
    "storm_time = this_storm.time\n",
    "this_storm.head()"
   ]
  },
  {
   "cell_type": "code",
   "execution_count": null,
   "id": "5ae60128",
   "metadata": {},
   "outputs": [],
   "source": [
    "this_storm.lat"
   ]
  },
  {
   "cell_type": "code",
   "execution_count": null,
   "id": "192d4985",
   "metadata": {},
   "outputs": [],
   "source": [
    "# get x,y index (lon/lat of the storms at a moment)\n",
    "lon=np.trunc(this_storm.lon)\n",
    "xind=lon\n",
    "\n",
    "lat=np.trunc(this_storm.lat)\n",
    "yind=np.zeros_like(lat)\n",
    "yind=90-lat"
   ]
  },
  {
   "cell_type": "code",
   "execution_count": null,
   "id": "9d9b6302",
   "metadata": {},
   "outputs": [],
   "source": [
    "# get the year,month,date,time of storms\n",
    "stryear = np.empty([309,360],dtype='U64')\n",
    "strmonth = np.empty([309,360],dtype='U64')\n",
    "strdate = np.empty([309,360],dtype='U64')\n",
    "strtime = np.empty([309,360],dtype='U64')\n",
    "floatwind = np.empty([309,360],dtype='float')\n",
    "floatpres = np.empty([309,360],dtype='float')\n",
    "floatdir = np.empty([309,360],dtype='float')\n",
    "floatlat = np.empty([309,360],dtype='float')\n",
    "floatlon = np.empty([309,360],dtype='float')\n",
    "for i in storm_time.storm.data:\n",
    "    for j in storm_time.date_time.data:\n",
    "        stryear[i][j]=str(storm_time.values[i][j])[0:4]\n",
    "        strmonth[i][j]=str(storm_time.values[i][j])[5:7]\n",
    "        strdate[i][j]=str(storm_time.values[i][j])[8:10]\n",
    "        strtime[i][j]=str(storm_time.values[i][j])[11:13]\n",
    "        floatwind[i][j]=this_storm.usa_wind[i][j]\n",
    "        floatpres[i][j]=this_storm.usa_pres[i][j]\n",
    "        floatdir[i][j]=this_storm.storm_dir[i][j]\n",
    "        floatlat[i][j]=this_storm.lat[i][j].values\n",
    "        floatlon[i][j]=this_storm.lon[i][j].values"
   ]
  },
  {
   "cell_type": "code",
   "execution_count": null,
   "id": "dbce4435",
   "metadata": {
    "scrolled": true
   },
   "outputs": [],
   "source": [
    "import time\n",
    "start=time.time()\n",
    "ds_lst = []\n",
    "# Read in the files when storms happens\n",
    "path = '/data/gpm/a/snesbitt/FNL/'\n",
    "for i in storm_time.storm.data:         # loop over all storm time\n",
    "    for j in storm_time.date_time.data:         # loop over all time during the storm\n",
    "        year = stryear[i][j]   # for opening the dataset\n",
    "        month = strmonth[i][j] # for opening the dataset\n",
    "        date = strdate[i][j]   # for opening the dataset\n",
    "        time1 = strtime[i][j]   # for opening the dataset\n",
    "        if time1=='00' or time1=='06' or time1=='12' or time1=='18':\n",
    "            filename = 'fnl_'+year+month+date+'_'+time1+'_00'+'.grib2'\n",
    "            try:\n",
    "                data1=xr.open_dataset(path+year+'/'+year+'.'+month+'/'+filename,engine='cfgrib',backend_kwargs={'filter_by_keys':{'typeOfLevel': 'isobaricInhPa'}})\n",
    "                # The center of the certain storm can be found by xind[i][j], yind[i][j]\n",
    "                a=int(xind[i][j].data) # longitude of typhoon center as the index in this dataset\n",
    "                b=int(yind[i][j].data) # latitude of typhoon center as the index in this dataset\n",
    "                # 'data'\n",
    "                data = xr.Dataset(coords=dict(time=data1['time']),attrs=dict(description='lat from high to low, lon from low to high'))\n",
    "\n",
    "                data['u_200'] = ['lat','lon'],data1.u.sel(isobaricInhPa=200).isel(longitude=slice(a-30,a+31),latitude=slice(b-30,b+31)).values\n",
    "                data['v_200'] = ['lat','lon'],data1.v.sel(isobaricInhPa=200).isel(longitude=slice(a-30,a+31),latitude=slice(b-30,b+31)).values\n",
    "                data['u_850'] = ['lat','lon'],data1.u.sel(isobaricInhPa=850).isel(longitude=slice(a-30,a+31),latitude=slice(b-30,b+31)).values\n",
    "                data['v_850'] = ['lat','lon'],data1.v.sel(isobaricInhPa=850).isel(longitude=slice(a-30,a+31),latitude=slice(b-30,b+31)).values\n",
    "                data['gh_200'] = ['lat','lon'],data1.gh.sel(isobaricInhPa=200).isel(longitude=slice(a-30,a+31),latitude=slice(b-30,b+31)).values\n",
    "                data['gh_500'] = ['lat','lon'],data1.gh.sel(isobaricInhPa=500).isel(longitude=slice(a-30,a+31),latitude=slice(b-30,b+31)).values\n",
    "\n",
    "                data['usa_wind'] = floatwind[i][j]\n",
    "                data['usa_pres'] = floatpres[i][j]\n",
    "                data['storm_dir'] = floatdir[i][j]\n",
    "                data['latitude'] = floatlat[i][j]\n",
    "                data['longitude'] = floatlon[i][j]\n",
    "                \n",
    "                ds_lst.append(data)\n",
    "                \n",
    "#                 if i==0 and j==0:\n",
    "#                     print('aaaaa')\n",
    "#                     data_out1=data\n",
    "#                 else:\n",
    "#                     print('bbbbb')\n",
    "#                     data_out1=xr.concat([data_out,data],dim='time')\n",
    "\n",
    "                data1.close()\n",
    "            except:\n",
    "                print(year+month+date+time1)\n",
    "            \n",
    "data_out=xr.concat(ds_lst,dim='time')\n",
    "\n",
    "data_out.to_netcdf('processed_data1.nc')\n",
    "\n",
    "print(time.time()-start)"
   ]
  },
  {
   "cell_type": "code",
   "execution_count": null,
   "id": "e2f15667",
   "metadata": {},
   "outputs": [],
   "source": [
    "data_out=xr.concat(ds_lst,dim='time')\n",
    "data_out"
   ]
  },
  {
   "cell_type": "code",
   "execution_count": null,
   "id": "3e6e9a7f",
   "metadata": {},
   "outputs": [],
   "source": [
    "# i=0\n",
    "# while i < len(ds_lst):\n",
    "#     if np.size(ds_lst[i].lat)!=61 or np.size(ds_lst[i].lon)!=61:\n",
    "#         print(ds_lst.pop(i))\n",
    "#     i+=1\n",
    "# data_out=xr.concat(ds_lst,dim='time')"
   ]
  },
  {
   "cell_type": "code",
   "execution_count": null,
   "id": "e55185e6",
   "metadata": {},
   "outputs": [],
   "source": [
    "# 2012-08-12T06:00:00.000000000"
   ]
  },
  {
   "cell_type": "code",
   "execution_count": null,
   "id": "47ac79b9",
   "metadata": {},
   "outputs": [],
   "source": [
    "data_out.to_netcdf('processed_data1.nc')"
   ]
  },
  {
   "cell_type": "code",
   "execution_count": null,
   "id": "31089b5e",
   "metadata": {},
   "outputs": [],
   "source": [
    "xr.open_dataset('processed_data1.nc')"
   ]
  },
  {
   "cell_type": "code",
   "execution_count": null,
   "id": "242d5141",
   "metadata": {},
   "outputs": [],
   "source": [
    "m=data1.u.sel(isobaricInhPa=200).isel(longitude=slice(a-30,a+31),latitude=slice(b-30,b+31))-data1.u.sel(isobaricInhPa=850).isel(longitude=slice(a-30,a+31),latitude=slice(b-30,b+31))\n",
    "m.latitude"
   ]
  },
  {
   "cell_type": "code",
   "execution_count": null,
   "id": "c40a81e4",
   "metadata": {},
   "outputs": [],
   "source": [
    "plt.contourf(m.longitude,m.latitude,m)\n",
    "plt.colorbar()"
   ]
  },
  {
   "cell_type": "code",
   "execution_count": null,
   "id": "9669188c",
   "metadata": {},
   "outputs": [],
   "source": [
    "plt.contourf(np.flip(data.u_200-data.u_850,0))"
   ]
  },
  {
   "cell_type": "code",
   "execution_count": null,
   "id": "3443e04e",
   "metadata": {},
   "outputs": [],
   "source": [
    "era5 = xr.open_dataset('/data/keeling/a/jye18/c/monsoon_home/ml_597/data_dir/u_850_200_era5.nc',engine='netcdf4')\n",
    "era5"
   ]
  },
  {
   "cell_type": "code",
   "execution_count": null,
   "id": "842630b9",
   "metadata": {},
   "outputs": [],
   "source": []
  },
  {
   "cell_type": "code",
   "execution_count": null,
   "id": "148ea6a5",
   "metadata": {},
   "outputs": [],
   "source": []
  },
  {
   "cell_type": "code",
   "execution_count": null,
   "id": "7026a657",
   "metadata": {},
   "outputs": [],
   "source": [
    "# this_storm.storm_dir.expand_dims('time')"
   ]
  },
  {
   "cell_type": "code",
   "execution_count": null,
   "id": "03925b51",
   "metadata": {},
   "outputs": [],
   "source": [
    "# create 1-d array\n",
    "storm_dir_reshape = xr.DataArray(np.reshape(np.array(this_storm.storm_dir),(1,-1))[0],dims='time')[::2] \n",
    "\n",
    "storm_dir = storm_dir_reshape.to_dataset(name='storm_dir') # convert to xr.DataSet\n",
    "storm_dir = storm_dir.assign_coords(time=this_storm.storm_dir.time.values.flatten()[::2]) # assign coordinate of time\n",
    "storm_dir = storm_dir.dropna(dim='time') # drop NaN\n",
    "storm_dir"
   ]
  },
  {
   "cell_type": "code",
   "execution_count": null,
   "id": "c1022b63",
   "metadata": {},
   "outputs": [],
   "source": [
    "xr.merge([data_out.reset_coords(['step','valid_time'],drop=True),storm_dir],join='outer')"
   ]
  },
  {
   "cell_type": "code",
   "execution_count": null,
   "id": "03880443",
   "metadata": {},
   "outputs": [],
   "source": []
  },
  {
   "cell_type": "code",
   "execution_count": null,
   "id": "80f3ea12",
   "metadata": {},
   "outputs": [],
   "source": []
  },
  {
   "cell_type": "code",
   "execution_count": null,
   "id": "abf20a74",
   "metadata": {},
   "outputs": [],
   "source": []
  },
  {
   "cell_type": "code",
   "execution_count": null,
   "id": "6fbcd2e0",
   "metadata": {},
   "outputs": [],
   "source": [
    "data_out=xr.open_dataset('/data/gpm/a/fangyiz/processed_data.nc')\n",
    "data_out"
   ]
  },
  {
   "cell_type": "code",
   "execution_count": null,
   "id": "81f3c4fd",
   "metadata": {},
   "outputs": [],
   "source": [
    "data_out = data_out.reset_coords(['valid_time','step'],drop=True)"
   ]
  },
  {
   "cell_type": "code",
   "execution_count": null,
   "id": "acb914a4",
   "metadata": {},
   "outputs": [],
   "source": [
    "# create 1-d array\n",
    "storm_dir_reshape = xr.DataArray(np.reshape(np.array(this_storm.storm_dir),(1,-1))[0],dims='time')[::2] \n",
    "\n",
    "storm_dir = storm_dir_reshape.to_dataset(name='storm_dir') # convert to xr.DataSet\n",
    "storm_dir = storm_dir.assign_coords(time=this_storm.storm_dir.time.values.flatten()[::2]) # assign coordinate of time\n",
    "storm_dir = storm_dir.dropna(dim='time') # drop NaN\n",
    "storm_dir['u_200']=np.nan\n",
    "storm_dir['v_200']=np.nan\n",
    "storm_dir['u_850']=np.nan\n",
    "storm_dir['v_850']=np.nan\n",
    "storm_dir['gh_200']=np.nan\n",
    "storm_dir['gh_500']=np.nan"
   ]
  },
  {
   "cell_type": "code",
   "execution_count": null,
   "id": "279c803e",
   "metadata": {},
   "outputs": [],
   "source": [
    "storm_dir"
   ]
  },
  {
   "cell_type": "code",
   "execution_count": null,
   "id": "bf075249",
   "metadata": {},
   "outputs": [],
   "source": [
    "concat = xr.concat([data_out, storm_dir],dim='time',join='outer')\n",
    "concat"
   ]
  },
  {
   "cell_type": "code",
   "execution_count": null,
   "id": "f77bed33",
   "metadata": {},
   "outputs": [],
   "source": [
    "# ds_lst.pop(1976)"
   ]
  },
  {
   "cell_type": "code",
   "execution_count": null,
   "id": "e0a661b2",
   "metadata": {},
   "outputs": [],
   "source": [
    "# rm /data/gpm/a/snesbitt/FNL/2019/2019.06/fnl_20190624_12_00.grib2\n",
    "# rm 2011-09-09T06:00:00\n",
    "# rm 2018-09-07T06:00:00"
   ]
  },
  {
   "cell_type": "code",
   "execution_count": null,
   "id": "061683be",
   "metadata": {},
   "outputs": [],
   "source": []
  },
  {
   "cell_type": "code",
   "execution_count": null,
   "id": "61fd9e3b",
   "metadata": {},
   "outputs": [],
   "source": []
  },
  {
   "cell_type": "code",
   "execution_count": null,
   "id": "00cb33d0",
   "metadata": {},
   "outputs": [],
   "source": [
    "som = MiniSom(2, 3, 3721, sigma=1.,\n",
    "              learning_rate=0.2, neighborhood_function='bubble')  # 3x3 = 9 final colors\n",
    "som.random_weights_init(height_som)\n",
    "starting_weights = som.get_weights().copy()  # saving the starting weights\n",
    "som.train(height_som, 10000, random_order=True)#, verbose=True)"
   ]
  },
  {
   "cell_type": "code",
   "execution_count": null,
   "id": "8e682f51",
   "metadata": {},
   "outputs": [],
   "source": [
    "print('quantization...')\n",
    "qnt = som.quantization(height_som)  # quantize each pixels of the image\n",
    "print('building new image...')\n",
    "clustered = np.zeros((51,100))\n",
    "qnt\n",
    "# for i, q in enumerate(qnt):  # place the quantized values into a new image\n",
    "#     clustered[np.unravel_index(i, shape=(51, 100))] = q\n",
    "# print('done.')"
   ]
  },
  {
   "cell_type": "code",
   "execution_count": null,
   "id": "df841a9e",
   "metadata": {},
   "outputs": [],
   "source": [
    "plt.subplot(121)\n",
    "plt.contourf(height_som)\n",
    "plt.subplot(122)\n",
    "plt.contourf(qnt)\n",
    "plt.colorbar()"
   ]
  },
  {
   "cell_type": "code",
   "execution_count": null,
   "id": "6c7ea729",
   "metadata": {},
   "outputs": [],
   "source": [
    "import xarray as xr\n",
    "url = \"https://rda.ucar.edu/data/ds633.0/e5.oper.an.pl/201601/e5.oper.an.pl.128_060_pv.ll025sc.2016010100_2016010123.nc\"\n",
    "ds = xr.open_dataset(url)"
   ]
  },
  {
   "cell_type": "code",
   "execution_count": null,
   "id": "b2a6b690",
   "metadata": {},
   "outputs": [],
   "source": [
    "from siphon.catalog import TDSCatalog\n",
    "from siphon.http_util import session_manager\n",
    "\n",
    "# Set options for Siphon's HTTP session manager--in this case user/password\n",
    "session_manager.set_session_options(auth=('fangyiz@illinois.edu', 'zfy990714'))\n",
    "cat = TDSCatalog('https://rda.ucar.edu/thredds/catalog/files/g/ds084.1/2020/20200101/catalog.xml')\n",
    "\n",
    "selected_dataset = cat.datasets[0]\n",
    "ds = selected_dataset.remote_access(service='CDMRemote', use_xarray=True)"
   ]
  },
  {
   "cell_type": "code",
   "execution_count": null,
   "id": "aefcde83",
   "metadata": {},
   "outputs": [],
   "source": [
    "import siphon"
   ]
  },
  {
   "cell_type": "code",
   "execution_count": null,
   "id": "baf958a6",
   "metadata": {},
   "outputs": [],
   "source": [
    "data1"
   ]
  }
 ],
 "metadata": {
  "kernelspec": {
   "display_name": "python39",
   "language": "python",
   "name": "python39"
  },
  "language_info": {
   "codemirror_mode": {
    "name": "ipython",
    "version": 3
   },
   "file_extension": ".py",
   "mimetype": "text/x-python",
   "name": "python",
   "nbconvert_exporter": "python",
   "pygments_lexer": "ipython3",
   "version": "3.9.0"
  }
 },
 "nbformat": 4,
 "nbformat_minor": 5
}
